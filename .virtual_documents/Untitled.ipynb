#Step 1: Load and Explore the Data

import pandas as pd

# Load the CSV files
movies_df = pd.read_csv('tmdb_5000_movies.csv')
credits_df = pd.read_csv('tmdb_5000_credits.csv')

# Display the first few rows of each dataset to understand their structure
movies_df.head(), credits_df.head()



#Step 2: Merge the Datasets
# Merge the movies and credits dataframes on 'id' and 'movie_id'  

merged_df = movies_df.merge(credits_df, left_on='id', right_on='movie_id', how='left')

# Select relevant features for the recommendation system
merged_df = merged_df[['id', 'title_x', 'genres', 'overview', 'keywords', 'cast', 'crew']]

# Renaming columns for easier reference
merged_df = merged_df.rename(columns={
    'title_x': 'title',
    'genres': 'genres',
    'overview': 'overview',
    'keywords': 'keywords',
    'cast': 'cast',
    'crew': 'crew'
})

merged_df.head()



#Step 3: Preprocess the Data 

import ast

# Function to convert JSON-like strings to lists
def parse_features(x):
    try:
        return [i['name'] for i in ast.literal_eval(x)]
    except (ValueError, TypeError, SyntaxError):
        return []

# Apply the function to convert genres, keywords, cast, and crew into lists
merged_df['genres'] = merged_df['genres'].apply(parse_features)
merged_df['keywords'] = merged_df['keywords'].apply(parse_features)

# For cast, we will consider only the first 3 actors
merged_df['cast'] = merged_df['cast'].apply(lambda x: [i['name'] for i in ast.literal_eval(x)[:3]])

# For crew, we'll focus on the director
def get_director(x):
    try:
        for i in ast.literal_eval(x):
            if i['job'] == 'Director':
                return [i['name']]
        return []
    except (ValueError, TypeError, SyntaxError):
        return []

merged_df['crew'] = merged_df['crew'].apply(get_director)

# Combine features into a single string for each movie
merged_df['combined_features'] = merged_df['genres'] + merged_df['keywords'] + merged_df['cast'] + merged_df['crew']
merged_df['combined_features'] = merged_df['combined_features'].apply(lambda x: ' '.join(x))

merged_df[['title', 'combined_features']].head()




#Step 4: Vectorization and Similarity Calculation

from sklearn.feature_extraction.text import CountVectorizer
from sklearn.metrics.pairwise import cosine_similarity

# Vectorize the combined features
vectorizer = CountVectorizer(stop_words='english')
feature_vectors = vectorizer.fit_transform(merged_df['combined_features'])

# Compute the cosine similarity matrix
cosine_sim = cosine_similarity(feature_vectors, feature_vectors)



## Create a function to recommend movies based on title  

def recommend_movies(title, cosine_sim=cosine_sim, df=merged_df):
    # Get the index of the movie that matches the title
    idx = df[df['title'].str.lower() == title.lower()].index[0]

    # Get the pairwise similarity scores of all movies with that movie
    sim_scores = list(enumerate(cosine_sim[idx]))

    # Sort the movies based on the similarity scores
    sim_scores = sorted(sim_scores, key=lambda x: x[1], reverse=True)

    # Get the indices of the top 10 most similar movies
    sim_indices = [i[0] for i in sim_scores[1:11]]

    # Return the titles of the most similar movies
    return df['title'].iloc[sim_indices]



# Test the function with an example
recommend_movies('Gandhi')



